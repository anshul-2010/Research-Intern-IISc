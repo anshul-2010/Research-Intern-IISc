{
 "cells": [
  {
   "cell_type": "code",
   "execution_count": 5,
   "metadata": {},
   "outputs": [],
   "source": [
    "import numpy as np\n",
    "import os\n",
    "import matplotlib.pyplot as plt\n",
    "import nibabel as nib\n",
    "import skimage.transform as resize\n",
    "import seaborn as sns\n",
    "import torch.nn as nn\n",
    "import torch\n",
    "import skimage\n",
    "from torchvision import transforms\n",
    "from mpl_toolkits.mplot3d import Axes3D"
   ]
  },
  {
   "cell_type": "code",
   "execution_count": 6,
   "metadata": {},
   "outputs": [],
   "source": [
    "import torch.nn as nn\n",
    "import torch.nn.functional as F\n",
    "import torch.distributions as dist\n",
    "import torchvision.transforms as transforms\n",
    "import random"
   ]
  },
  {
   "cell_type": "code",
   "execution_count": null,
   "metadata": {},
   "outputs": [],
   "source": [
    "filea = \"C:\\\\Users\\\\vivek\\\\Music\\\\amos22\\\\Images\\\\amos_0004.nii.gz\"\n",
    "fileb = \"C:\\\\Users\\\\vivek\\\\Music\\\\amos22\\\\Labels\\\\amos_0004.nii.gz\"\n",
    "image11 = nib.load(filea)\n",
    "image12 = nib.load(fileb)\n",
    "data11 = image11.get_fdata()\n",
    "data12 = image12.get_fdata()\n",
    "plt.imshow(data11[:,:,50], cmap = \"gray\")\n",
    "plt.colorbar(orientation=\"vertical\")\n",
    "plt.grid(False)\n",
    "plt.show()\n",
    "plt.imshow(data12[:,:,50], cmap = \"gray\")\n",
    "plt.colorbar(orientation=\"vertical\")\n",
    "plt.grid(False)\n",
    "plt.show()\n",
    "re_data1 = skimage.transform.resize(data11, (64, 64, 64), order=0, preserve_range=2, anti_aliasing=False)\n",
    "re_data2 = skimage.transform.resize(data12, (64, 64, 64), order=0, preserve_range=2, anti_aliasing=False)\n",
    "re_data1 = np.reshape(re_data1, (1, 64, 64, 64))\n",
    "re_data2 = np.reshape(re_data2, (1, 64, 64, 64))\n",
    "print(re_data1.shape)\n",
    "print(re_data2.shape)"
   ]
  },
  {
   "cell_type": "markdown",
   "metadata": {},
   "source": [
    "## GIN"
   ]
  },
  {
   "cell_type": "code",
   "execution_count": 7,
   "metadata": {},
   "outputs": [],
   "source": [
    "class GradlessGCReplayNonlinBlock3D(nn.Module):\n",
    "    def __init__(self, in_channel=1, out_channel=1, scale_pool = [1,3], use_act=True):\n",
    "        \"\"\"\n",
    "        Convolution-leaky relu layer. Efficiently implemented by using Group Convolutions\n",
    "        \"\"\"\n",
    "        super(GradlessGCReplayNonlinBlock3D, self).__init__()\n",
    "        self.in_channel = in_channel\n",
    "        self.out_channel = out_channel\n",
    "        self.scale_pool = scale_pool\n",
    "        self.use_act = use_act\n",
    "\n",
    "    def forward(self, x_in):\n",
    "        # Choose a random size for the kernel\n",
    "        idx_k = torch.randint(high=len(self.scale_pool), size=(1,))\n",
    "        k = self.scale_pool[idx_k[0]]\n",
    "\n",
    "        nb, nc, nx, ny, nz = x_in.shape\n",
    "\n",
    "        ker = torch.randn([self.out_channel * nb, self.in_channel, k, k, k]).cuda()\n",
    "        shift = torch.randn([self.out_channel * nb, 1, 1, 1]).cuda() * 1.0\n",
    "\n",
    "        x_in = x_in.view(1, nb * nc, nx, ny, nz)\n",
    "        x_conv = F.conv3d(x_in, ker, stride=1, padding=k//2, dilation=1, groups=nb)\n",
    "        x_conv = x_conv + shift\n",
    "        if self.use_act:\n",
    "            x_conv = F.leaky_relu(x_conv)\n",
    "\n",
    "        x_conv = x_conv.view(nb, self.out_channel, nx, ny, nz)\n",
    "\n",
    "        return x_conv"
   ]
  },
  {
   "cell_type": "code",
   "execution_count": 8,
   "metadata": {},
   "outputs": [],
   "source": [
    "class GINGroup_Conv3D(nn.Module):\n",
    "    def __init__(self, out_channel=1, interim_channel=2, in_channel=1, scale_pool = [1,3], n_layer=4, out_norm = 'frob'):\n",
    "        \"\"\"\n",
    "        Global Intensity Non-Linear Augmentation\n",
    "        \"\"\"\n",
    "        super(GINGroup_Conv3D, self).__init__()\n",
    "        self.scale_pool = scale_pool\n",
    "        self.out_channel = out_channel\n",
    "        self.in_channel = in_channel\n",
    "        self.n_layer = n_layer\n",
    "        self.out_norm = out_norm\n",
    "        self.layers = []\n",
    "\n",
    "        self.layers.append(\n",
    "            GradlessGCReplayNonlinBlock3D(out_channel=interim_channel, in_channel=in_channel, scale_pool=scale_pool).cuda()\n",
    "        )\n",
    "        for i in range(n_layer-2):\n",
    "            self.layers.append(\n",
    "                GradlessGCReplayNonlinBlock3D(out_channel=interim_channel, in_channel=interim_channel, scale_pool=scale_pool).cuda()\n",
    "            )\n",
    "        self.layers.append(\n",
    "            GradlessGCReplayNonlinBlock3D(out_channel=out_channel, in_channel=interim_channel, scale_pool=scale_pool, use_act=False).cuda()\n",
    "        )\n",
    "\n",
    "        self.layers = nn.ModuleList(self.layers)\n",
    "\n",
    "    def forward(self, x_in):\n",
    "        x_in = x_in.float()\n",
    "        if isinstance(x_in, list):\n",
    "            x_in = torch.cat(x_in, dim=0)\n",
    "\n",
    "        nb, nc, nx, ny, nz = x_in.shape\n",
    "\n",
    "        alphas = torch.rand(nb)[:, None, None, None, None] # nb, 1, 1, 1, 1\n",
    "        alphas = alphas.repeat(1, nc, 1, 1, 1).cuda() # nb, nc, 1, 1\n",
    "\n",
    "        x = self.layers[0](x_in)\n",
    "        for blk in self.layers[1:]:\n",
    "            x = blk(x)\n",
    "        mixed = alphas * x + (1.0 - alphas) * x_in\n",
    "\n",
    "        if self.out_norm == 'frob':\n",
    "            _in_frob = torch.norm(x_in.view(nb, nc, -1), dim=(-1, -2), p='fro', keepdim=False)\n",
    "            _in_frob = _in_frob[:, None, None, None, None].repeat(1, nc, 1, 1, 1)\n",
    "            _self_frob = torch.norm(mixed.view(nb, self.out_channel, -1), dim=(-1,-2), p='fro', keepdim=False)\n",
    "            _self_frob = _self_frob[:, None, None, None, None].repeat(1, self.out_channel, 1, 1, 1)\n",
    "            mixed = mixed * (1.0 / (_self_frob + 1e-5)) * _in_frob\n",
    "\n",
    "        return mixed"
   ]
  },
  {
   "cell_type": "code",
   "execution_count": 9,
   "metadata": {},
   "outputs": [
    {
     "ename": "NameError",
     "evalue": "name 're_data1' is not defined",
     "output_type": "error",
     "traceback": [
      "\u001b[1;31m---------------------------------------------------------------------------\u001b[0m",
      "\u001b[1;31mNameError\u001b[0m                                 Traceback (most recent call last)",
      "Cell \u001b[1;32mIn[9], line 4\u001b[0m\n\u001b[0;32m      1\u001b[0m \u001b[39mif\u001b[39;00m \u001b[39m__name__\u001b[39m \u001b[39m==\u001b[39m \u001b[39m'\u001b[39m\u001b[39m__main__\u001b[39m\u001b[39m'\u001b[39m:\n\u001b[0;32m      2\u001b[0m     augmenter \u001b[39m=\u001b[39m GINGroup_Conv3D()\u001b[39m.\u001b[39mcuda()\n\u001b[1;32m----> 4\u001b[0m     image \u001b[39m=\u001b[39m np\u001b[39m.\u001b[39mreshape(re_data1, (\u001b[39m1\u001b[39m,\u001b[39m1\u001b[39m,\u001b[39m64\u001b[39m,\u001b[39m64\u001b[39m,\u001b[39m64\u001b[39m))\n\u001b[0;32m      5\u001b[0m     image_input \u001b[39m=\u001b[39m torch\u001b[39m.\u001b[39mfrom_numpy(image)\n\u001b[0;32m      6\u001b[0m     image_input \u001b[39m=\u001b[39m image_input\u001b[39m.\u001b[39mcuda()\n",
      "\u001b[1;31mNameError\u001b[0m: name 're_data1' is not defined"
     ]
    }
   ],
   "source": [
    "\n",
    "if __name__ == '__main__':\n",
    "    augmenter = GINGroup_Conv3D().cuda()\n",
    "    \n",
    "    image = np.reshape(re_data1, (1,1,64,64,64))\n",
    "    image_input = torch.from_numpy(image)\n",
    "    image_input = image_input.cuda()\n",
    "    print(image_input.shape)\n",
    "\n",
    "    # Forward pass through the shallow network\n",
    "    output1 = augmenter(image_input).detach().cpu().numpy()\n",
    "    output2 = augmenter(image_input).detach().cpu().numpy()\n",
    "    input = image_input.detach().cpu().numpy()\n",
    "    # Print the output shape\n",
    "    plt.subplot(1,3,1)\n",
    "    plt.imshow(input[0,0,:,:,50], cmap = \"gray\")\n",
    "    plt.subplot(1,3,2)\n",
    "    plt.imshow(output1[0,0,:,:,50], cmap = \"gray\")\n",
    "    plt.subplot(1,3,3)\n",
    "    plt.imshow(output2[0,0,:,:,50], cmap = \"gray\")\n",
    "    plt.show()"
   ]
  },
  {
   "cell_type": "code",
   "execution_count": null,
   "metadata": {},
   "outputs": [],
   "source": [
    "# Set the size of the field\n",
    "width = 64\n",
    "height = 64\n",
    "depth = 64\n",
    "\n",
    "# Set the frequency of the noise\n",
    "freq = random.uniform(0, 0.05)\n",
    "\n",
    "# Generate the Perlin noise field\n",
    "field = np.zeros((depth, height, width))\n",
    "for z in range(depth):\n",
    "    for y in range(height):\n",
    "        for x in range(width):\n",
    "            field[z, y, x] = pnoise3(x * freq, y * freq, z * freq)\n",
    "\n",
    "field2 = 1-field\n",
    "field = np.reshape(field,(1,1,64,64,64))\n",
    "field2 = np.reshape(field2, (1,1,64,64,64))"
   ]
  },
  {
   "cell_type": "code",
   "execution_count": null,
   "metadata": {},
   "outputs": [],
   "source": [
    "# Plot the 3D Perlin noise field\n",
    "fig = plt.figure()\n",
    "ax = fig.add_subplot(111, projection='3d')\n",
    "x_coords, y_coords, z_coords = np.meshgrid(np.arange(width), np.arange(height), np.arange(depth))\n",
    "ax.scatter(x_coords.flatten(), y_coords.flatten(), z_coords.flatten(), c=field[0,0,:,:,:].flatten(), cmap='gray')\n",
    "plt.show()\n",
    "\n",
    "# Plot the 3D Perlin noise field\n",
    "fig = plt.figure()\n",
    "ax = fig.add_subplot(111, projection='3d')\n",
    "x_coords, y_coords, z_coords = np.meshgrid(np.arange(width), np.arange(height), np.arange(depth))\n",
    "ax.scatter(x_coords.flatten(), y_coords.flatten(), z_coords.flatten(), c=field2[0,0,:,:,:].flatten(), cmap='gray')\n",
    "plt.show()"
   ]
  },
  {
   "cell_type": "code",
   "execution_count": null,
   "metadata": {},
   "outputs": [],
   "source": [
    "T1 = output1 * field + output2 * field2\n",
    "T2 = output1 * field2 + output2 * field"
   ]
  },
  {
   "cell_type": "code",
   "execution_count": null,
   "metadata": {},
   "outputs": [],
   "source": [
    "plt.figure(figsize=(15,15))\n",
    "for j in range(64):\n",
    "    plt.subplot(8,8,j+1)\n",
    "    plt.imshow(T1[0,0,:,:,j], cmap = \"gray\")\n",
    "plt.show()"
   ]
  },
  {
   "cell_type": "code",
   "execution_count": null,
   "metadata": {},
   "outputs": [],
   "source": [
    "plt.figure(figsize=(15,15))\n",
    "for j in range(64):\n",
    "    plt.subplot(8,8,j+1)\n",
    "    plt.imshow(T2[0,0,:,:,j], cmap = \"gray\")\n",
    "plt.show()"
   ]
  }
 ],
 "metadata": {
  "kernelspec": {
   "display_name": "Python 3",
   "language": "python",
   "name": "python3"
  },
  "language_info": {
   "codemirror_mode": {
    "name": "ipython",
    "version": 3
   },
   "file_extension": ".py",
   "mimetype": "text/x-python",
   "name": "python",
   "nbconvert_exporter": "python",
   "pygments_lexer": "ipython3",
   "version": "3.9.13"
  }
 },
 "nbformat": 4,
 "nbformat_minor": 2
}
